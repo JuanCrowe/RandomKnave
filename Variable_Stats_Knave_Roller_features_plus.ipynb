{
  "nbformat": 4,
  "nbformat_minor": 0,
  "metadata": {
    "colab": {
      "provenance": [],
      "authorship_tag": "ABX9TyPsk8yX32iXdmnbZGSEpUZd",
      "include_colab_link": true
    },
    "kernelspec": {
      "name": "python3",
      "display_name": "Python 3"
    },
    "language_info": {
      "name": "python"
    }
  },
  "cells": [
    {
      "cell_type": "markdown",
      "metadata": {
        "id": "view-in-github",
        "colab_type": "text"
      },
      "source": [
        "<a href=\"https://colab.research.google.com/github/JuanCrowe/RandomKnave/blob/main/Variable_Stats_Knave_Roller_features_plus.ipynb\" target=\"_parent\"><img src=\"https://colab.research.google.com/assets/colab-badge.svg\" alt=\"Open In Colab\"/></a>"
      ]
    },
    {
      "cell_type": "code",
      "execution_count": 18,
      "metadata": {
        "colab": {
          "base_uri": "https://localhost:8080/"
        },
        "id": "y6iyp-PstIpc",
        "outputId": "b8ea8e01-9b88-4dcf-e270-c1e28ccf2ae2"
      },
      "outputs": [
        {
          "output_type": "stream",
          "name": "stdout",
          "text": [
            "1 [12, 10, 10, 11, 10, 10]\n",
            "2 [12, 10, 12, 12, 10, 10]\n",
            "3 [14, 11, 12, 12, 10, 10]\n",
            "4 [14, 11, 12, 13, 12, 10]\n",
            "5 [15, 11, 14, 13, 12, 10]\n",
            "6 [15, 11, 15, 14, 13, 10]\n",
            "7 [16, 11, 17, 14, 13, 10]\n",
            "8 [17, 12, 17, 15, 13, 10]\n",
            "9 [17, 14, 17, 16, 13, 10]\n",
            "10 [17, 14, 17, 17, 13, 12]\n"
          ]
        }
      ],
      "source": [
        "#Generate semi-random Knave chars. The player puts their stats in order\n",
        "#from most to least important. Each level the computer rolls a d20 and checks\n",
        "#to see if it is over the existing stat, if it is then the player gains 1 in\n",
        "#that stat, if not then it move to the next stat and the process is repeated\n",
        "#until all the points for that level are assigned. This produces PCs that are\n",
        "#semi-random, there is no rushing to 20 as in a point buy system and there is no\n",
        "#guretee that the player will get to 20 in any stat. Use this to simulate\n",
        "#difrent approches to stat assignment.\n",
        "\n",
        "#The output is a set of six numbers representing the six Knave stats and how\n",
        "#They might increase over the charicters advancement. Useful for NPCs in any case\n",
        "\n",
        "#@title Default title text\n",
        "StartingStats = 10 #@param {type:\"slider\", min:1, max:20, step:1}\n",
        "Levels = 10 # @param {type:\"slider\", min:1, max:60, step:1}\n",
        "PointsPerLevel = 3 # @param {type:\"slider\", min:1, max:10, step:1}\n",
        "MaxStats = 20 # @param {type:\"slider\", min:3, max:30, step:1}\n",
        "\n",
        "#Set initial variables\n",
        "CurrentLevel = 1\n",
        "freepoints = PointsPerLevel\n",
        "OvershootTracker = 0\n",
        "Audit = 1\n",
        "\n",
        "import random\n",
        "\n",
        "\n",
        "def dieroll(number, sides):#General dice function\n",
        "  tally = 0\n",
        "  for i in range(number):\n",
        "    tally = tally + (random.randint(1,sides))\n",
        "  return(tally)\n",
        "\n",
        "#Attach to sheets for actual scores.\n",
        "#abilityscore = [StartingStats] * 6\n",
        "abilityscore = [10,10,10,10,10,10]\n",
        "\n",
        "index = 0\n",
        "\n",
        "while CurrentLevel <= Levels:\n",
        "  while freepoints > 0:#Isn't this a job for a nested 'for' loop? Why yes, yes it is.\n",
        "    if abilityscore[index] < dieroll(1,MaxStats):\n",
        "      abilityscore[index] = abilityscore[index] + 1\n",
        "      index = 0\n",
        "      freepoints = freepoints - 1\n",
        "      #print (index,freepoints,abilityscore)\n",
        "    else:\n",
        "      index = index + 1\n",
        "      if index > 5:\n",
        "        #if Audit == 1: print (\"Overshoot\")\n",
        "        OvershootTracker = OvershootTracker + 1\n",
        "        index = 0\n",
        "        if sum(abilityscore) == (6*MaxStats):\n",
        "            print(\"overflow\")\n",
        "            exit()\n",
        "  print (CurrentLevel, abilityscore)\n",
        "  CurrentLevel = CurrentLevel + 1\n",
        "  freepoints = PointsPerLevel\n",
        "\n",
        "\n",
        "\n"
      ]
    }
  ]
}